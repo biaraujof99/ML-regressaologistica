{
  "nbformat": 4,
  "nbformat_minor": 0,
  "metadata": {
    "colab": {
      "provenance": [],
      "authorship_tag": "ABX9TyPlInQQwvWQ9jVVSfYHUz6F",
      "include_colab_link": true
    },
    "kernelspec": {
      "name": "python3",
      "display_name": "Python 3"
    },
    "language_info": {
      "name": "python"
    }
  },
  "cells": [
    {
      "cell_type": "markdown",
      "metadata": {
        "id": "view-in-github",
        "colab_type": "text"
      },
      "source": [
        "<a href=\"https://colab.research.google.com/github/biaraujof99/ML-regressaologistica/blob/main/PROJETO_LIVRARIA.ipynb\" target=\"_parent\"><img src=\"https://colab.research.google.com/assets/colab-badge.svg\" alt=\"Open In Colab\"/></a>"
      ]
    },
    {
      "cell_type": "code",
      "source": [
        "import time\n",
        "\n",
        "# 1. Registradores (CPU)\n",
        "class CPU:\n",
        "    def __init__(self):\n",
        "        self.registrador_A = None  # CPF do usuário\n",
        "        self.registrador_B = None  # Código do livro\n",
        "\n",
        "    def carregar_A(self, valor):\n",
        "        self.registrador_A = valor\n",
        "\n",
        "    def carregar_B(self, valor):\n",
        "        self.registrador_B = valor\n",
        "\n",
        "    def obter_dados(self):\n",
        "        return self.registrador_A, self.registrador_B\n",
        "\n",
        "# 2. Memória RAM\n",
        "class MemoriaRAM:\n",
        "    def __init__(self):\n",
        "        self.usuarios = {}         # {cpf: nome}\n",
        "        self.livros = {}           # {codigo: titulo}\n",
        "        self.emprestimos = []      # lista de empréstimos (cpf, codigo_livro)\n",
        "\n",
        "    def adicionar_usuario(self, cpf, nome):\n",
        "        self.usuarios[cpf] = nome\n",
        "\n",
        "    def adicionar_livro(self, codigo, titulo):\n",
        "        self.livros[codigo] = titulo\n",
        "\n",
        "    def registrar_emprestimo(self, cpf, codigo_livro):\n",
        "        if cpf in self.usuarios and codigo_livro in self.livros:\n",
        "            self.emprestimos.append((cpf, codigo_livro))\n",
        "            return True\n",
        "        return False\n",
        "\n",
        "    def listar_emprestimos(self):\n",
        "        return self.emprestimos\n",
        "\n",
        "# 3. Barramento\n",
        "class Barramento:\n",
        "    def __init__(self):\n",
        "        self.dado = None\n",
        "\n",
        "    def enviar(self, dado):\n",
        "        self.dado = dado\n",
        "\n",
        "    def receber(self):\n",
        "        return self.dado\n",
        "\n",
        "# 4. Pipeline de instruções\n",
        "class Pipeline:\n",
        "    def __init__(self):\n",
        "        self.estagios = [\"Busca\", \"Decodificação\", \"Execução\", \"Escrita\"]\n",
        "\n",
        "    def processar_instrucao(self, instrucao):\n",
        "        for estagio in self.estagios:\n",
        "            print(f\"{estagio}: {instrucao}\")\n",
        "            time.sleep(0.3)\n",
        "\n",
        "# Sistema completo\n",
        "def sistema_de_emprestimo():\n",
        "    # Inicialização\n",
        "    cpu = CPU()\n",
        "    ram = MemoriaRAM()\n",
        "    barramento = Barramento()\n",
        "    pipeline = Pipeline()\n",
        "\n",
        "    # Dados iniciais\n",
        "    ram.adicionar_usuario(\"11111111111\", \"Beatriz\")\n",
        "    ram.adicionar_livro(1, \"O Senhor dos Anéis\")\n",
        "    ram.adicionar_livro(2, \"Orgulho e Preconceito\")\n",
        "\n",
        "    # Simulando empréstimo\n",
        "    print(\"\\n--- Início do Empréstimo ---\")\n",
        "    cpu.carregar_A(\"11111111111\")  # CPF\n",
        "    cpu.carregar_B(1)              # Código do livro\n",
        "\n",
        "    # Enviar dados pelo barramento\n",
        "    barramento.enviar(cpu.obter_dados())\n",
        "\n",
        "    # Pipeline processando\n",
        "    pipeline.processar_instrucao(\"Empréstimo de livro\")\n",
        "\n",
        "    # Receber dados e registrar empréstimo\n",
        "    cpf, cod_livro = barramento.receber()\n",
        "    sucesso = ram.registrar_emprestimo(cpf, cod_livro)\n",
        "\n",
        "    # Resultado\n",
        "    if sucesso:\n",
        "        print(\"\\nEmpréstimo registrado com sucesso!\")\n",
        "    else:\n",
        "        print(\"\\nErro no empréstimo: Usuário ou livro não encontrado.\")\n",
        "\n",
        "    # Exibir empréstimos\n",
        "    print(\"\\n--- Lista de Empréstimos ---\")\n",
        "    for cpf, cod in ram.listar_emprestimos():\n",
        "        print(f\"Usuário: {ram.usuarios[cpf]}, Livro: {ram.livros[cod]}\")\n",
        "\n",
        "# Executar\n",
        "if __name__ == \"__main__\":\n",
        "    sistema_de_emprestimo()\n"
      ],
      "metadata": {
        "colab": {
          "base_uri": "https://localhost:8080/"
        },
        "id": "mBJiuQXul9O5",
        "outputId": "dd0efdc4-7872-4ec6-fc19-0a28e4f4db0e"
      },
      "execution_count": 2,
      "outputs": [
        {
          "output_type": "stream",
          "name": "stdout",
          "text": [
            "\n",
            "--- Início do Empréstimo ---\n",
            "Busca: Empréstimo de livro\n",
            "Decodificação: Empréstimo de livro\n",
            "Execução: Empréstimo de livro\n",
            "Escrita: Empréstimo de livro\n",
            "\n",
            "Empréstimo registrado com sucesso!\n",
            "\n",
            "--- Lista de Empréstimos ---\n",
            "Usuário: Beatriz, Livro: O Senhor dos Anéis\n"
          ]
        }
      ]
    }
  ]
}